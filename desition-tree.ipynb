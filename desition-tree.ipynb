{
 "cells": [
  {
   "cell_type": "markdown",
   "id": "b4c9e406",
   "metadata": {},
   "source": [
    "# Description\n",
    "\n",
    "This notebook presents my first experiment utilizing the decision tree method to predict the position of volleyball players. The experiments will update with the intriduction of new models in our University Machine Leanring module and will update the repo as well.\n",
    "\n",
    "### What is Volleyball\n",
    "Volleyball is a team sport where players are designated to specific positions based on their skills and roles within the team. Understanding the position of each player is crucial for team strategy, player development, and scouting purposes. \n",
    "\n",
    "### Why is Volleyball \n",
    "From my childhood I used to go to play volleyball with my dad and ultimately fell in love with the sport. But the more I play i understood that position matter in the team and the different positions not only need different skills but also a suiting stats affect in the long run. Specially in the professional level. So that being the motivation i stated this project \n",
    "\n",
    "In this experiment, I aim to develop a machine learning model that can accurately classify(If not until I do lol) volleyball players into their respective positions based on various performance metrics such as attack, block, serve, set, dig, and receive.\n",
    "\n",
    "### The Positions\n",
    "\n",
    "OH : outside hitter<br>\n",
    "OP : Opposite hitter<br>\n",
    "MB : Middle blocker<br>\n",
    "S  : Setter<br>\n",
    "L  : Libero<br>"
   ]
  },
  {
   "cell_type": "markdown",
   "id": "ee6584b2",
   "metadata": {},
   "source": [
    "### First about the model - Desition Tree\n",
    "\n",
    "A decision tree is a <b>supervised learning algorithm</b> used for classification tasks. It works by recursively splitting the dataset into subsets based on the most significant attribute at each node. Each internal node represents a feature, each branch represents a decision based on that feature, and each leaf node represents the outcome (class label). Decision trees are intuitive, easy to interpret, and can handle both numerical and categorical data."
   ]
  },
  {
   "cell_type": "markdown",
   "id": "593da9bb",
   "metadata": {},
   "source": [
    "#### Key Features of the Decision Tree Model:\n",
    "\n",
    "<b>Entropy:</b> Entropy is a measure of impurity in a dataset. The decision tree algorithm uses entropy to determine the best feature to split the data at each node. It aims to minimize entropy, resulting in more homogenous subsets.\n",
    "\n",
    "<b>Information Gain:</b> Information gain measures the reduction in entropy achieved by splitting the dataset based on a particular feature. The decision tree algorithm selects the feature with the highest information gain as the splitting criterion.\n",
    "\n",
    "<b>Interpretability:</b> One of the main advantages of decision trees is their interpretability. The trained model can be visualized as a tree structure, allowing us to understand the decision-making process and infer feature importance."
   ]
  },
  {
   "cell_type": "code",
   "execution_count": 16,
   "id": "56c516df",
   "metadata": {},
   "outputs": [],
   "source": [
    "import pandas as pd\n",
    "from sklearn.model_selection import train_test_split\n",
    "from sklearn.tree import DecisionTreeClassifier\n",
    "from sklearn.metrics import accuracy_score"
   ]
  },
  {
   "cell_type": "code",
   "execution_count": 26,
   "id": "40f61c48",
   "metadata": {},
   "outputs": [],
   "source": [
    "# Load the dataset\n",
    "data = pd.read_csv('VNL2023.csv')"
   ]
  },
  {
   "cell_type": "code",
   "execution_count": 27,
   "id": "400468e2",
   "metadata": {},
   "outputs": [],
   "source": [
    "# Drop unnecessary features\n",
    "data.drop(['Player', 'Country'], axis=1, inplace=True)"
   ]
  },
  {
   "cell_type": "code",
   "execution_count": 28,
   "id": "429ecb64",
   "metadata": {},
   "outputs": [],
   "source": [
    "# Split data into features and target variable\n",
    "X = data.drop(columns=['Position'])\n",
    "y = data['Position']"
   ]
  },
  {
   "cell_type": "code",
   "execution_count": 29,
   "id": "4b0c4d1f",
   "metadata": {},
   "outputs": [],
   "source": [
    "# Split data into training and testing sets\n",
    "X_train, X_test, y_train, y_test = train_test_split(X, y, test_size=0.2, random_state=42)"
   ]
  },
  {
   "cell_type": "code",
   "execution_count": 30,
   "id": "2845a0f3",
   "metadata": {},
   "outputs": [
    {
     "data": {
      "text/html": [
       "<style>#sk-container-id-1 {color: black;}#sk-container-id-1 pre{padding: 0;}#sk-container-id-1 div.sk-toggleable {background-color: white;}#sk-container-id-1 label.sk-toggleable__label {cursor: pointer;display: block;width: 100%;margin-bottom: 0;padding: 0.3em;box-sizing: border-box;text-align: center;}#sk-container-id-1 label.sk-toggleable__label-arrow:before {content: \"▸\";float: left;margin-right: 0.25em;color: #696969;}#sk-container-id-1 label.sk-toggleable__label-arrow:hover:before {color: black;}#sk-container-id-1 div.sk-estimator:hover label.sk-toggleable__label-arrow:before {color: black;}#sk-container-id-1 div.sk-toggleable__content {max-height: 0;max-width: 0;overflow: hidden;text-align: left;background-color: #f0f8ff;}#sk-container-id-1 div.sk-toggleable__content pre {margin: 0.2em;color: black;border-radius: 0.25em;background-color: #f0f8ff;}#sk-container-id-1 input.sk-toggleable__control:checked~div.sk-toggleable__content {max-height: 200px;max-width: 100%;overflow: auto;}#sk-container-id-1 input.sk-toggleable__control:checked~label.sk-toggleable__label-arrow:before {content: \"▾\";}#sk-container-id-1 div.sk-estimator input.sk-toggleable__control:checked~label.sk-toggleable__label {background-color: #d4ebff;}#sk-container-id-1 div.sk-label input.sk-toggleable__control:checked~label.sk-toggleable__label {background-color: #d4ebff;}#sk-container-id-1 input.sk-hidden--visually {border: 0;clip: rect(1px 1px 1px 1px);clip: rect(1px, 1px, 1px, 1px);height: 1px;margin: -1px;overflow: hidden;padding: 0;position: absolute;width: 1px;}#sk-container-id-1 div.sk-estimator {font-family: monospace;background-color: #f0f8ff;border: 1px dotted black;border-radius: 0.25em;box-sizing: border-box;margin-bottom: 0.5em;}#sk-container-id-1 div.sk-estimator:hover {background-color: #d4ebff;}#sk-container-id-1 div.sk-parallel-item::after {content: \"\";width: 100%;border-bottom: 1px solid gray;flex-grow: 1;}#sk-container-id-1 div.sk-label:hover label.sk-toggleable__label {background-color: #d4ebff;}#sk-container-id-1 div.sk-serial::before {content: \"\";position: absolute;border-left: 1px solid gray;box-sizing: border-box;top: 0;bottom: 0;left: 50%;z-index: 0;}#sk-container-id-1 div.sk-serial {display: flex;flex-direction: column;align-items: center;background-color: white;padding-right: 0.2em;padding-left: 0.2em;position: relative;}#sk-container-id-1 div.sk-item {position: relative;z-index: 1;}#sk-container-id-1 div.sk-parallel {display: flex;align-items: stretch;justify-content: center;background-color: white;position: relative;}#sk-container-id-1 div.sk-item::before, #sk-container-id-1 div.sk-parallel-item::before {content: \"\";position: absolute;border-left: 1px solid gray;box-sizing: border-box;top: 0;bottom: 0;left: 50%;z-index: -1;}#sk-container-id-1 div.sk-parallel-item {display: flex;flex-direction: column;z-index: 1;position: relative;background-color: white;}#sk-container-id-1 div.sk-parallel-item:first-child::after {align-self: flex-end;width: 50%;}#sk-container-id-1 div.sk-parallel-item:last-child::after {align-self: flex-start;width: 50%;}#sk-container-id-1 div.sk-parallel-item:only-child::after {width: 0;}#sk-container-id-1 div.sk-dashed-wrapped {border: 1px dashed gray;margin: 0 0.4em 0.5em 0.4em;box-sizing: border-box;padding-bottom: 0.4em;background-color: white;}#sk-container-id-1 div.sk-label label {font-family: monospace;font-weight: bold;display: inline-block;line-height: 1.2em;}#sk-container-id-1 div.sk-label-container {text-align: center;}#sk-container-id-1 div.sk-container {/* jupyter's `normalize.less` sets `[hidden] { display: none; }` but bootstrap.min.css set `[hidden] { display: none !important; }` so we also need the `!important` here to be able to override the default hidden behavior on the sphinx rendered scikit-learn.org. See: https://github.com/scikit-learn/scikit-learn/issues/21755 */display: inline-block !important;position: relative;}#sk-container-id-1 div.sk-text-repr-fallback {display: none;}</style><div id=\"sk-container-id-1\" class=\"sk-top-container\"><div class=\"sk-text-repr-fallback\"><pre>DecisionTreeClassifier(random_state=42)</pre><b>In a Jupyter environment, please rerun this cell to show the HTML representation or trust the notebook. <br />On GitHub, the HTML representation is unable to render, please try loading this page with nbviewer.org.</b></div><div class=\"sk-container\" hidden><div class=\"sk-item\"><div class=\"sk-estimator sk-toggleable\"><input class=\"sk-toggleable__control sk-hidden--visually\" id=\"sk-estimator-id-1\" type=\"checkbox\" checked><label for=\"sk-estimator-id-1\" class=\"sk-toggleable__label sk-toggleable__label-arrow\">DecisionTreeClassifier</label><div class=\"sk-toggleable__content\"><pre>DecisionTreeClassifier(random_state=42)</pre></div></div></div></div></div>"
      ],
      "text/plain": [
       "DecisionTreeClassifier(random_state=42)"
      ]
     },
     "execution_count": 30,
     "metadata": {},
     "output_type": "execute_result"
    }
   ],
   "source": [
    "# Model training\n",
    "model = DecisionTreeClassifier(random_state=42)\n",
    "model.fit(X_train, y_train)"
   ]
  },
  {
   "cell_type": "code",
   "execution_count": 31,
   "id": "269069cd",
   "metadata": {},
   "outputs": [
    {
     "name": "stdout",
     "output_type": "stream",
     "text": [
      "Accuracy: 0.8148148148148148\n"
     ]
    }
   ],
   "source": [
    "# Model evaluation\n",
    "y_pred = model.predict(X_test)\n",
    "accuracy = accuracy_score(y_test, y_pred)\n",
    "print(\"Accuracy:\", accuracy)"
   ]
  },
  {
   "cell_type": "code",
   "execution_count": 38,
   "id": "69e9e997",
   "metadata": {},
   "outputs": [
    {
     "name": "stdout",
     "output_type": "stream",
     "text": [
      "Predicted Position: Opposite hitter\n"
     ]
    },
    {
     "name": "stderr",
     "output_type": "stream",
     "text": [
      "/Users/shakthiraveen/anaconda3/lib/python3.11/site-packages/sklearn/base.py:464: UserWarning: X does not have valid feature names, but DecisionTreeClassifier was fitted with feature names\n",
      "  warnings.warn(\n"
     ]
    }
   ],
   "source": [
    "# Get the input needed\n",
    "Age = 24\n",
    "Attack = 10\n",
    "Block = 1.23\n",
    "Serve = 2.1\n",
    "Set = 0.09\n",
    "Dig = 2.9\n",
    "Recieve = 4\n",
    "\n",
    "new_player_features = [Age, Attack, Block, Serve, Set, Dig, Recieve]\n",
    "\n",
    "# Reshape the features array into a 2D array as the model expects\n",
    "new_player_features = [new_player_features]\n",
    "\n",
    "# Assuming you have a dictionary to map position codes to their full names\n",
    "position_mapping = {\n",
    "    'OH': 'outside hitter',\n",
    "    'OP': 'Opposite hitter',\n",
    "    'MB': 'Middle blocker',\n",
    "    'S': 'Setter',\n",
    "    'L': 'Libero'\n",
    "}\n",
    "\n",
    "# Make predictions\n",
    "predicted_position = model.predict(new_player_features)\n",
    "predicted_position_label = position_mapping.get(predicted_position[0], 'Unknown')\n",
    "\n",
    "print(\"Predicted Position:\", predicted_position_label)"
   ]
  },
  {
   "cell_type": "code",
   "execution_count": null,
   "id": "c6cd464b",
   "metadata": {},
   "outputs": [],
   "source": []
  }
 ],
 "metadata": {
  "kernelspec": {
   "display_name": "Python 3 (ipykernel)",
   "language": "python",
   "name": "python3"
  },
  "language_info": {
   "codemirror_mode": {
    "name": "ipython",
    "version": 3
   },
   "file_extension": ".py",
   "mimetype": "text/x-python",
   "name": "python",
   "nbconvert_exporter": "python",
   "pygments_lexer": "ipython3",
   "version": "3.11.5"
  }
 },
 "nbformat": 4,
 "nbformat_minor": 5
}
